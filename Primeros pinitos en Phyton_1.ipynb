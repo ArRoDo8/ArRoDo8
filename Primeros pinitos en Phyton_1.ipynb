{
  "nbformat": 4,
  "nbformat_minor": 0,
  "metadata": {
    "colab": {
      "name": "Untitled0.ipynb",
      "provenance": [],
      "authorship_tag": "ABX9TyOOApU4KantAB+WoboanutL",
      "include_colab_link": true
    },
    "kernelspec": {
      "name": "python3",
      "display_name": "Python 3"
    },
    "language_info": {
      "name": "python"
    }
  },
  "cells": [
    {
      "cell_type": "markdown",
      "metadata": {
        "id": "view-in-github",
        "colab_type": "text"
      },
      "source": [
        "<a href=\"https://colab.research.google.com/github/ArRoDo8/ArRoDo8/blob/main/Primeros%20pinitos%20en%20Phyton_1.ipynb\" target=\"_parent\"><img src=\"https://colab.research.google.com/assets/colab-badge.svg\" alt=\"Open In Colab\"/></a>"
      ]
    },
    {
      "cell_type": "code",
      "execution_count": null,
      "metadata": {
        "id": "8rsCZF3XM84A"
      },
      "outputs": [],
      "source": [
        ""
      ]
    },
    {
      "cell_type": "markdown",
      "source": [
        "ESTE ES MI PRIMER CODIGO"
      ],
      "metadata": {
        "id": "YFhf_Gf3M9s0"
      }
    },
    {
      "cell_type": "code",
      "source": [
        "#al presionar la tecla ALMOHADILLA lo que le sigue el programa no lo lee"
      ],
      "metadata": {
        "id": "KzkQPZJkNGvT"
      },
      "execution_count": null,
      "outputs": []
    },
    {
      "cell_type": "code",
      "source": [
        "#para definir una constante se tiene que poner la variable o constante seguida de = 'espacio' y el valor que deseemos\n",
        "a= 10\n",
        "b= 11\n",
        "c= 2\n",
        "sumatorio= a+b/c"
      ],
      "metadata": {
        "id": "VmSSKvhzNSbv"
      },
      "execution_count": null,
      "outputs": []
    },
    {
      "cell_type": "code",
      "source": [
        "#suma de variables (a, b, c)\n",
        "print ('el resultado de la suma es \\n', sumatorio)\n"
      ],
      "metadata": {
        "colab": {
          "base_uri": "https://localhost:8080/"
        },
        "id": "qLXt7p_5NYfp",
        "outputId": "39d91034-73a3-46a6-d947-a2fdd468877d"
      },
      "execution_count": null,
      "outputs": [
        {
          "output_type": "stream",
          "name": "stdout",
          "text": [
            "el resultado de la suma es \n",
            " 23\n"
          ]
        }
      ]
    },
    {
      "cell_type": "code",
      "source": [
        "sumatorio"
      ],
      "metadata": {
        "colab": {
          "base_uri": "https://localhost:8080/"
        },
        "id": "NlJsa1VcOkit",
        "outputId": "d24de54d-fd9b-4974-c53f-4a1a9a9d34f9"
      },
      "execution_count": null,
      "outputs": [
        {
          "output_type": "execute_result",
          "data": {
            "text/plain": [
              "23"
            ]
          },
          "metadata": {},
          "execution_count": 5
        }
      ]
    },
    {
      "cell_type": "code",
      "source": [
        "d= 'Este es el resultado de la suma'\n",
        "e= sumatorio\n",
        "print (d,e,'€')"
      ],
      "metadata": {
        "colab": {
          "base_uri": "https://localhost:8080/"
        },
        "id": "H0tHK0i4Oo3z",
        "outputId": "6fc73739-1942-4b07-ea61-67920c61ca0f"
      },
      "execution_count": null,
      "outputs": [
        {
          "output_type": "stream",
          "name": "stdout",
          "text": [
            "Este es el resultado de la suma 15.5 €\n"
          ]
        }
      ]
    },
    {
      "cell_type": "code",
      "source": [
        ""
      ],
      "metadata": {
        "id": "bcP8vlvZP241"
      },
      "execution_count": null,
      "outputs": []
    }
  ]
}