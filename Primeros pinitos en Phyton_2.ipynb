{
  "nbformat": 4,
  "nbformat_minor": 0,
  "metadata": {
    "colab": {
      "name": "Untitled1.ipynb",
      "provenance": [],
      "collapsed_sections": [],
      "authorship_tag": "ABX9TyNw3Wcd4RcJ9+ZEMjI83Odl",
      "include_colab_link": true
    },
    "kernelspec": {
      "name": "python3",
      "display_name": "Python 3"
    },
    "language_info": {
      "name": "python"
    }
  },
  "cells": [
    {
      "cell_type": "markdown",
      "metadata": {
        "id": "view-in-github",
        "colab_type": "text"
      },
      "source": [
        "<a href=\"https://colab.research.google.com/github/ArRoDo8/ArRoDo8/blob/main/Primeros%20pinitos%20en%20Phyton_2.ipynb\" target=\"_parent\"><img src=\"https://colab.research.google.com/assets/colab-badge.svg\" alt=\"Open In Colab\"/></a>"
      ]
    },
    {
      "cell_type": "markdown",
      "source": [
        "VAMOS A PRACTICAR LOS FILTROS DE CONTROL"
      ],
      "metadata": {
        "id": "EYEGT3aK2cG_"
      }
    },
    {
      "cell_type": "code",
      "source": [
        "#definimos las constantes de cuantos lotes tenemos en la opertiva actual\n",
        "n_lotes_SPX= 5\n",
        "print (n_lotes_btc)"
      ],
      "metadata": {
        "colab": {
          "base_uri": "https://localhost:8080/"
        },
        "id": "EPZv0iq_2qS-",
        "outputId": "51bc3124-589f-4a0c-9188-c722b08cf75e"
      },
      "execution_count": null,
      "outputs": [
        {
          "output_type": "stream",
          "name": "stdout",
          "text": [
            "5\n"
          ]
        }
      ]
    },
    {
      "cell_type": "code",
      "source": [
        "#ahora cambiamos el valor de la variables n_lotes, el cuál al leer el cógigo siempre prevalece el valor de la última línea de cógigo\n",
        "n_lotes_naq= 2\n",
        "print (n_lotes)"
      ],
      "metadata": {
        "colab": {
          "base_uri": "https://localhost:8080/"
        },
        "id": "h1d7i0_Z3DNW",
        "outputId": "35f09044-462f-4d52-e198-c10d4f88921b"
      },
      "execution_count": null,
      "outputs": [
        {
          "output_type": "stream",
          "name": "stdout",
          "text": [
            "2\n"
          ]
        }
      ]
    },
    {
      "cell_type": "code",
      "source": [
        "#ahora definimos unos filtros de control mediante el comando if, que significa si, para defenir el filtro\n",
        "if (n_lotes>= 10):\n",
        "  print ('vas demasiado cargado de posiciones')\n",
        "else:\n",
        "  print ('estas dentro del rango posibles de posiciones')\n",
        "  # la lectura de este cógigo sería:\n",
        "  #si n_lotes es mayor o igual a 10 imprime en pantalla 'vas demasiado cargado...', si no es así, osea es menor de 10 lotes, entonces imprime en pantalla ' estas dentro del rango...'\n"
      ],
      "metadata": {
        "colab": {
          "base_uri": "https://localhost:8080/"
        },
        "id": "zMLv9-x-3W-N",
        "outputId": "296a9891-a050-42f6-9ab8-95b61dab2925"
      },
      "execution_count": null,
      "outputs": [
        {
          "output_type": "stream",
          "name": "stdout",
          "text": [
            "estas dentro del rango posibles de posiciones\n"
          ]
        }
      ]
    },
    {
      "cell_type": "markdown",
      "source": [
        "VAMOS A DEFINIR UNA FUNCIÓN PARA AUTOMATIZAR TAREAS REPETITIVAS"
      ],
      "metadata": {
        "id": "8fAjCCEe4-P-"
      }
    },
    {
      "cell_type": "code",
      "source": [
        "#definimos la función 'cálculo' para realizar el cálculo de la suma de los lotes de todos los productos\n",
        "def cálculo():\n",
        "  total= n_lotes_SPX+n_lotes_naq\n",
        "  print ('El total de la suma es', total, 'Lotes')\n",
        "  #si queremos separar en varias líneas lo imprimido en pantalla se introduce \\n en la función print, dentro del ('.......... \\n')"
      ],
      "metadata": {
        "id": "mxcDyzoo5IDs"
      },
      "execution_count": null,
      "outputs": []
    },
    {
      "cell_type": "code",
      "source": [
        "#para hacer la llamada de la función tenemos que escribir la función seguida de () sin espacios entre sí\n",
        "cálculo()"
      ],
      "metadata": {
        "colab": {
          "base_uri": "https://localhost:8080/"
        },
        "id": "9M148YOc7mUg",
        "outputId": "d2f6b21a-5bdf-468d-d79c-62ce19f50554"
      },
      "execution_count": null,
      "outputs": [
        {
          "output_type": "stream",
          "name": "stdout",
          "text": [
            "El total de la suma es 7 Lotes\n"
          ]
        }
      ]
    },
    {
      "cell_type": "markdown",
      "source": [
        "VAMOS A CREAR UN BUCLE O LOOP PARA RECORRER UN VECTOR Y BUSCAR DATOS DENTRO DE UNA TABLA"
      ],
      "metadata": {
        "id": "wja0Elyw9bHQ"
      }
    }
  ]
}